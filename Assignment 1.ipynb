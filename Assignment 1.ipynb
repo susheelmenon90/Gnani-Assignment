{
 "cells": [
  {
   "cell_type": "code",
   "execution_count": null,
   "id": "11316fe2-d519-49a6-8ed3-5e3d9f566a03",
   "metadata": {},
   "outputs": [],
   "source": [
    "import speech_recognition as sr\n",
    "import googletrans\n",
    "from gtts import gTTS\n",
    "import os\n",
    "import playsound"
   ]
  },
  {
   "cell_type": "code",
   "execution_count": null,
   "id": "02c38263-5575-43ff-b9f7-6221011e44e9",
   "metadata": {},
   "outputs": [],
   "source": [
    "pip install google-cloud-translate"
   ]
  },
  {
   "cell_type": "code",
   "execution_count": null,
   "id": "8d57516f-4275-4853-80aa-3ffd93c3d09d",
   "metadata": {},
   "outputs": [],
   "source": [
    "pip install google-cloud-speech"
   ]
  },
  {
   "cell_type": "code",
   "execution_count": null,
   "id": "95088853-d695-4531-afe3-fee6b6ee1d5c",
   "metadata": {},
   "outputs": [],
   "source": [
    "pip install translate"
   ]
  },
  {
   "cell_type": "code",
   "execution_count": null,
   "id": "6fb9d175-8b71-4093-bd1f-2150c74b77c7",
   "metadata": {},
   "outputs": [],
   "source": [
    "pip install deep-translator"
   ]
  },
  {
   "cell_type": "code",
   "execution_count": 2,
   "id": "09f65910-b72c-46a9-b7ac-6ee0a16a9e1a",
   "metadata": {},
   "outputs": [
    {
     "name": "stdout",
     "output_type": "stream",
     "text": [
      "नमस्ते मेरा नाम मिया है, मैं आपकी आभासी सहायक हूँ, आज मैं आपकी कैसे मदद कर सकती हूँ?\n"
     ]
    }
   ],
   "source": [
    "from deep_translator import GoogleTranslator\n",
    "\n",
    "# GoogleTranslator (no API key needed)\n",
    "def translate_text(text, target_lang='fr'):\n",
    "    translator = GoogleTranslator(source='auto', target=target_lang)\n",
    "    return translator.translate(text)\n",
    "\n",
    "# Example usage:\n",
    "text = \"Hi my name is Mia, your virtual assistant, how can i help you today?\"\n",
    "translated = translate_text(text, 'hi')  # Translate to Hindi, vary the language code to modify the output language\n",
    "print(translated)"
   ]
  },
  {
   "cell_type": "code",
   "execution_count": null,
   "id": "422fa679-d0ed-454e-94cb-c3a64d54d3e5",
   "metadata": {},
   "outputs": [],
   "source": [
    "The above set of code can can covert any text into the target language ##"
   ]
  },
  {
   "cell_type": "code",
   "execution_count": null,
   "id": "10e64c64-b204-4596-ba23-ec484abcdb17",
   "metadata": {},
   "outputs": [],
   "source": [
    "pip install SpeechRecognition pydub"
   ]
  },
  {
   "cell_type": "code",
   "execution_count": 20,
   "id": "560feec9-13af-41f2-bc3e-ecbd389692f4",
   "metadata": {},
   "outputs": [
    {
     "name": "stdout",
     "output_type": "stream",
     "text": [
      "Recognized text: हाय मेरा नाम सुशील है मैं 24 साल का हूं और महिला तोता मैं काम करता हूं आप मुझे मेरा पॉलिसी डॉक्युमेंट मदद लेने में मदद करेंगे\n"
     ]
    }
   ],
   "source": [
    "import speech_recognition as sr\n",
    "from pydub import AudioSegment\n",
    "\n",
    "# Load the audio file\n",
    "audio_file_path = \"/Users/susheelparakkatmenon/Downloads/Record (online-voice-recorder.com) - 2024-09-21T130127.438 (1).wav\"  # Replace with your audio file path\n",
    "audio = AudioSegment.from_wav(audio_file_path)\n",
    "\n",
    "# Initialize recognizer\n",
    "recognizer = sr.Recognizer()\n",
    "\n",
    "# Convert audio to text\n",
    "with sr.AudioFile(audio_file_path) as source:\n",
    "    audio_data = recognizer.record(source)\n",
    "    try:\n",
    "        # Recognize speech using Google Web Speech API\n",
    "        text = recognizer.recognize_google(audio_data, language=\"hi-IN\")  # Hindi language code\n",
    "        print(\"Recognized text:\", text)\n",
    "    except sr.UnknownValueError:\n",
    "        print(\"Google Web Speech API could not understand the audio\")\n",
    "    except sr.RequestError as e:\n",
    "        print(f\"Could not request results from Google Web Speech API; {e}\")"
   ]
  },
  {
   "cell_type": "code",
   "execution_count": null,
   "id": "a3ecebc6-4515-4847-a5db-d038694e9fa4",
   "metadata": {},
   "outputs": [],
   "source": [
    "The above set of code can transacribe Auido to Text using Google ASR ##"
   ]
  },
  {
   "cell_type": "code",
   "execution_count": null,
   "id": "3245a26c-a449-4328-8ae6-5a753aea8c71",
   "metadata": {},
   "outputs": [],
   "source": [
    "from gtts import gTTS\n",
    "import os\n",
    "\n",
    "# Text to be converted to speech\n",
    "text = \"Hello, this is a text-to-speech conversion using Google Text-to-Speech.\"\n",
    "\n",
    "# Create a gTTS object\n",
    "tts = gTTS(text=text, lang='en')\n",
    "\n",
    "# Save the converted audio to a file\n",
    "audio_file = 'output.mp3'\n",
    "tts.save(audio_file)\n",
    "\n",
    "# Play the audio file (macOS)\n",
    "os.system(f\"afplay {audio_file}\")"
   ]
  },
  {
   "cell_type": "code",
   "execution_count": null,
   "id": "45e11f2a-1aa5-4b79-8bb0-c3a755283522",
   "metadata": {},
   "outputs": [],
   "source": [
    "The above set of code uses Google TTS to convert Text to Speech"
   ]
  },
  {
   "cell_type": "code",
   "execution_count": 17,
   "id": "b5f3060a-9afc-4417-bda1-025536ee5759",
   "metadata": {},
   "outputs": [
    {
     "name": "stdout",
     "output_type": "stream",
     "text": [
      "Sentiment: Negative, Polarity: -0.25, Subjectivity: 0.75\n"
     ]
    }
   ],
   "source": [
    "from textblob import TextBlob\n",
    "\n",
    "def analyze_sentiment(text):\n",
    "    # Create a TextBlob object\n",
    "    blob = TextBlob(text)\n",
    "    \n",
    "    # Get sentiment polarity and subjectivity\n",
    "    polarity = blob.sentiment.polarity  # Range: -1 (negative) to 1 (positive)\n",
    "    subjectivity = blob.sentiment.subjectivity  # Range: 0 (objective) to 1 (subjective)\n",
    "\n",
    "    # Determine overall sentiment\n",
    "    if polarity > 0:\n",
    "        sentiment = \"Positive\" # Joy \n",
    "    elif polarity < 0:\n",
    "        sentiment = \"Negative\"  ## Sad/anger\n",
    "    else:\n",
    "        sentiment = \"Neutral\"\n",
    "\n",
    "    return sentiment, polarity, subjectivity\n",
    "\n",
    "# Example usage\n",
    "text = \"such a mediocre  presentation.\"\n",
    "sentiment, polarity, subjectivity = analyze_sentiment(text)\n",
    "print(f\"Sentiment: {sentiment}, Polarity: {polarity}, Subjectivity: {subjectivity}\")"
   ]
  }
 ],
 "metadata": {
  "kernelspec": {
   "display_name": "Python 3 (ipykernel)",
   "language": "python",
   "name": "python3"
  },
  "language_info": {
   "codemirror_mode": {
    "name": "ipython",
    "version": 3
   },
   "file_extension": ".py",
   "mimetype": "text/x-python",
   "name": "python",
   "nbconvert_exporter": "python",
   "pygments_lexer": "ipython3",
   "version": "3.12.6"
  }
 },
 "nbformat": 4,
 "nbformat_minor": 5
}
